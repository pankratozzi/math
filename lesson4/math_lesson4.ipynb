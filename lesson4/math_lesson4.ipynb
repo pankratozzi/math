{
  "nbformat": 4,
  "nbformat_minor": 0,
  "metadata": {
    "colab": {
      "name": "math_lesson4.ipynb",
      "provenance": [],
      "collapsed_sections": []
    },
    "kernelspec": {
      "name": "python3",
      "display_name": "Python 3"
    },
    "language_info": {
      "name": "python"
    }
  },
  "cells": [
    {
      "cell_type": "code",
      "metadata": {
        "id": "oBA6ukzxMQDE"
      },
      "source": [
        "from sympy import *"
      ],
      "execution_count": 1,
      "outputs": []
    },
    {
      "cell_type": "code",
      "metadata": {
        "colab": {
          "base_uri": "https://localhost:8080/"
        },
        "id": "VbZauZ5GMYB3",
        "outputId": "a0d759eb-c41c-49fd-bf49-0f83898f78ed"
      },
      "source": [
        "eps = 1e-18\n",
        "a2 = 2\n",
        "lim = 1\n",
        "n = 2\n",
        "while lim > eps:\n",
        "    a1 = a2\n",
        "    a2 = (1 + 1/n)**n\n",
        "    lim = abs(a1-a2)\n",
        "    n += 1\n",
        "print(a2)"
      ],
      "execution_count": 2,
      "outputs": [
        {
          "output_type": "stream",
          "name": "stdout",
          "text": [
            "2.7182813149249223\n"
          ]
        }
      ]
    },
    {
      "cell_type": "code",
      "metadata": {
        "colab": {
          "base_uri": "https://localhost:8080/",
          "height": 38
        },
        "id": "N4eBwsB3MgMH",
        "outputId": "506a346f-562b-40b3-c0d3-27c6617db157"
      },
      "source": [
        "a, n = symbols('a n')\n",
        "a = n / Pow(factorial(n), 1/n)\n",
        "limit(a,n,oo)"
      ],
      "execution_count": 3,
      "outputs": [
        {
          "output_type": "execute_result",
          "data": {
            "text/latex": "$\\displaystyle e$",
            "text/plain": [
              "E"
            ]
          },
          "metadata": {},
          "execution_count": 3
        }
      ]
    }
  ]
}