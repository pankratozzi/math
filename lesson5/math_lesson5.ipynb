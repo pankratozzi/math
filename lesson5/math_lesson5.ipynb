{
  "nbformat": 4,
  "nbformat_minor": 0,
  "metadata": {
    "colab": {
      "name": "math_lesson5.ipynb",
      "provenance": [],
      "collapsed_sections": []
    },
    "kernelspec": {
      "name": "python3",
      "display_name": "Python 3"
    },
    "language_info": {
      "name": "python"
    }
  },
  "cells": [
    {
      "cell_type": "code",
      "metadata": {
        "colab": {
          "base_uri": "https://localhost:8080/"
        },
        "id": "ysJ7kzmsf7nM",
        "outputId": "c5398628-4dee-45e7-86ad-ad522a5b123b"
      },
      "source": [
        "import numpy as np\n",
        "\n",
        "def get_sin(num=30):\n",
        "    assert num < 90 and num > 0, 'Set angle between 0 and 90'\n",
        "    delta = np.pi / 180\n",
        "    y_sin = 0.\n",
        "    yield y_sin\n",
        "    #values = np.array([y_sin,])\n",
        "    for _ in range(num):\n",
        "        y_cos = np.sqrt(1 - np.power(y_sin, 2))\n",
        "        y_sin += y_cos * delta\n",
        "        yield y_sin\n",
        "        #values = np.append(values, y_sin, axis=None)\n",
        "    #return values\n",
        "\n",
        "for i, x in enumerate(get_sin(30)):\n",
        "    print(f'{i+1}) sin({i}) = {x:.4f}')\n",
        "print('The error increases over the loop, reason - approximation in calculations')"
      ],
      "execution_count": 1,
      "outputs": [
        {
          "output_type": "stream",
          "name": "stdout",
          "text": [
            "1) sin(0) = 0.0000\n",
            "2) sin(1) = 0.0175\n",
            "3) sin(2) = 0.0349\n",
            "4) sin(3) = 0.0523\n",
            "5) sin(4) = 0.0698\n",
            "6) sin(5) = 0.0872\n",
            "7) sin(6) = 0.1046\n",
            "8) sin(7) = 0.1219\n",
            "9) sin(8) = 0.1393\n",
            "10) sin(9) = 0.1565\n",
            "11) sin(10) = 0.1738\n",
            "12) sin(11) = 0.1910\n",
            "13) sin(12) = 0.2081\n",
            "14) sin(13) = 0.2252\n",
            "15) sin(14) = 0.2422\n",
            "16) sin(15) = 0.2591\n",
            "17) sin(16) = 0.2760\n",
            "18) sin(17) = 0.2927\n",
            "19) sin(18) = 0.3094\n",
            "20) sin(19) = 0.3260\n",
            "21) sin(20) = 0.3425\n",
            "22) sin(21) = 0.3589\n",
            "23) sin(22) = 0.3752\n",
            "24) sin(23) = 0.3914\n",
            "25) sin(24) = 0.4075\n",
            "26) sin(25) = 0.4234\n",
            "27) sin(26) = 0.4392\n",
            "28) sin(27) = 0.4549\n",
            "29) sin(28) = 0.4704\n",
            "30) sin(29) = 0.4858\n",
            "31) sin(30) = 0.5011\n",
            "The error increases over the loop, reason - approximation in calculations\n"
          ]
        }
      ]
    }
  ]
}